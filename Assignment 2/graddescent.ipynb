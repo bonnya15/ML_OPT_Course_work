{
 "cells": [
  {
   "cell_type": "markdown",
   "id": "3b0e98dd-d2be-4516-9026-543d87fe66fb",
   "metadata": {},
   "source": [
    "# Simple implementation of gradient descent\n",
    "\n",
    "Play around with this code to visualize the effect of the various parameters (e.g. $\\beta$ and $T$) on the convergence of gradient descent"
   ]
  },
  {
   "cell_type": "code",
   "execution_count": 1,
   "id": "9b6dc70c-e4e8-407c-a19a-a1eeec23262e",
   "metadata": {},
   "outputs": [],
   "source": [
    "import numpy as np\n",
    "import matplotlib.pyplot as plt\n",
    "import matplotlib.lines as mline"
   ]
  },
  {
   "cell_type": "code",
   "execution_count": 2,
   "id": "c0136fc3-cda2-46cc-a4c9-116f8df30710",
   "metadata": {},
   "outputs": [],
   "source": [
    "# Define the objective, its gradient, and the solvers\n",
    "\n",
    "D = np.diag([2,50])\n",
    "\n",
    "def f(x):\n",
    "    return 1/2*np.linalg.norm(D @ x)**2\n",
    "\n",
    "def df(x):\n",
    "    return D @ D @ x\n",
    "\n",
    "def gd(df, x0, beta, T):\n",
    "    xhist=[x0]\n",
    "    for t in np.arange(1,T+1):\n",
    "        prevx = xhist[-1]\n",
    "        stepsize = 1/beta\n",
    "        xhist.append(prevx - stepsize * df(prevx))\n",
    "    return xhist"
   ]
  },
  {
   "cell_type": "code",
   "execution_count": 4,
   "id": "f4678e84-ceef-482a-88d0-0aef3a08f680",
   "metadata": {},
   "outputs": [
    {
     "data": {
      "text/plain": [
       "array([[5.00000000e+00, 4.00000000e+00],\n",
       "       [4.99200000e+00, 0.00000000e+00],\n",
       "       [4.98401280e+00, 0.00000000e+00],\n",
       "       ...,\n",
       "       [2.62437288e-71, 0.00000000e+00],\n",
       "       [2.62017388e-71, 0.00000000e+00],\n",
       "       [2.61598160e-71, 0.00000000e+00]])"
      ]
     },
     "execution_count": 4,
     "metadata": {},
     "output_type": "execute_result"
    }
   ],
   "source": [
    "x0 = np.array([5,4])\n",
    "gdxhist = gd(df, x0, beta=2500, T=41*2500)\n",
    "gdxhist = np.array(gdxhist)\n",
    "gdxhist"
   ]
  },
  {
   "cell_type": "code",
   "execution_count": 4,
   "id": "e2b4e44e-3add-49f8-a12c-fffe68f59faf",
   "metadata": {},
   "outputs": [
    {
     "data": {
      "image/png": "[encoded data removed]",
      "text/plain": [
       "<Figure size 432x288 with 1 Axes>"
      ]
     },
     "metadata": {
      "needs_background": "light"
     },
     "output_type": "display_data"
    }
   ],
   "source": [
    "# Plot the contours of f and the history of the point estimates\n",
    "\n",
    "xrange = np.linspace(-2,5)\n",
    "yrange = np.linspace(-25,25)\n",
    "X,Y = np.meshgrid(xrange, yrange)\n",
    "Z = np.array([z for z in map(f, zip(X.flatten(), Y.flatten()))])\n",
    "Z = Z.reshape(X.shape)\n",
    "gdlines = mline.Line2D(gdxhist[:,0], gdxhist[:,1], color='red', marker='+', markersize=10)\n",
    "\n",
    "fig, ax = plt.subplots()\n",
    "ax.contour(X,Y,Z)\n",
    "transform = ax.transAxes\n",
    "ax.add_line(gdlines)\n",
    "plt.show()"
   ]
  },
  {
   "cell_type": "code",
   "execution_count": null,
   "id": "83b653da-d925-4ae9-8652-0d95f730c870",
   "metadata": {},
   "outputs": [],
   "source": []
  }
 ],
 "metadata": {
  "kernelspec": {
   "display_name": "Python 3",
   "language": "python",
   "name": "python3"
  },
  "language_info": {
   "codemirror_mode": {
    "name": "ipython",
    "version": 3
   },
   "file_extension": ".py",
   "mimetype": "text/x-python",
   "name": "python",
   "nbconvert_exporter": "python",
   "pygments_lexer": "ipython3",
   "version": "3.8.8"
  }
 },
 "nbformat": 4,
 "nbformat_minor": 5
}
