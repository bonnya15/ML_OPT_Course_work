{
 "cells": [
  {
   "cell_type": "markdown",
   "metadata": {
    "id": "Ge_nRgLafXsm"
   },
   "source": [
    "## Question - 1"
   ]
  },
  {
   "cell_type": "code",
   "execution_count": 1,
   "metadata": {
    "id": "-EWsr_sDUsIg"
   },
   "outputs": [],
   "source": [
    "import numpy as np\n",
    "\n",
    "\n",
    "class autoencoder:\n",
    "    \n",
    "    def __init__(self, d, n1):\n",
    "        \"\"\"\n",
    "        d: int, dimensionality of the input vectors\n",
    "        n1: int, dimensionality of the hidden layer\n",
    "        \"\"\"\n",
    "        self.d = d\n",
    "        self.n1 = n1\n",
    "        self.alpha = alpha\n",
    "        self.beta1 = beta1\n",
    "        self.beta2 = beta2\n",
    "        self.epsilon = epsilon\n",
    "        self.m  = None\n",
    "        self.X = None\n",
    "        self.Ybatch = None\n",
    "        self.a1 = None\n",
    "        self.a2= None\n",
    "        self.o1 = None\n",
    "        self.o2 = None\n",
    "\n",
    "        \n",
    "        # Glorot initialization\n",
    "        limit = np.sqrt(6 / (d + n1))\n",
    "        self.W1 = np.random.uniform(-limit, limit, size=(d, n1))\n",
    "        self.b1 = np.zeros((1,n1))\n",
    "        self.W2 = np.random.uniform(-limit, limit, size=(n1, d))\n",
    "        self.b2 = np.zeros((1,d))\n",
    "        \n",
    "        # Adam algorithm parameters initialization\n",
    "        self.t = 0\n",
    "        self.nuW1 = np.zeros_like(self.W1)\n",
    "        self.hW1 = np.zeros_like(self.W1)\n",
    "        self.nub1 = np.zeros_like(self.b1)\n",
    "        self.hb1 = np.zeros_like(self.b1)\n",
    "        self.nuW2 = np.zeros_like(self.W2)\n",
    "        self.hW2 = np.zeros_like(self.W2)\n",
    "        self.nub2 = np.zeros_like(self.b2)\n",
    "        self.hb2 = np.zeros_like(self.b2)\n",
    "\n",
    "      \n",
    "    ## Activation function for the hidden layer (ReLU)\n",
    "    def h1(self, a):\n",
    "        return np.maximum(0, a)\n",
    "\n",
    "\n",
    "    ## Activation function for the output layer (Sigmoid)\n",
    "    def h2(self, a):\n",
    "        return 1 / (1 + np.exp(-a))\n",
    "    \n",
    "    \n",
    "    ## Derivative of the activation h1\n",
    "    def dh1(self, a):\n",
    "        return (a > 0).astype(int)\n",
    "\n",
    "\n",
    "    ##Derivative of the activation h2\n",
    "    def dh2(self, a):\n",
    "        return self.h2(a) * (1 - self.h2(a))\n",
    "    \n",
    "    \n",
    "    def loss(self, Xbatch):\n",
    "        Ybatch = self.forward(Xbatch)\n",
    "        self.m = Xbatch.shape[0]\n",
    "        loss = (-1 / (self.d * self.m)) * np.sum(Xbatch * np.log(Ybatch) + (1 - Xbatch) * np.log(1 - Ybatch))\n",
    "        return loss\n",
    "    \n",
    "    def dloss(self, Ybatch):\n",
    "        d = self.d\n",
    "        m = Ybatch.shape[1]\n",
    "        self.Ybatch = Ybatch\n",
    "        return -(self.X / self.Ybatch) + ((1 - self.X) / (1 - self.Ybatch))\n",
    "\n",
    "\n",
    "    def forward(self, Xbatch):\n",
    "        self.X = Xbatch\n",
    "        self.m = Xbatch.shape[1]\n",
    "\n",
    "        # Hidden layer activation\n",
    "        self.a1 = np.dot(Xbatch, self.W1) + self.b1\n",
    "        self.o1 = self.h1(self.a1)\n",
    "\n",
    "        # Output layer activation\n",
    "        self.a2 = np.dot(self.a1,self.W2) + self.b2\n",
    "        self.o2 = self.h2(self.a2)\n",
    "\n",
    "        return self.o2\n",
    "\n",
    "\n",
    "    def backward(self):\n",
    "        \n",
    "        # Compute derivatives of loss with respect to Ybatch\n",
    "        dY = self.dloss(self.o2)\n",
    "\n",
    "        # Compute derivatives of loss with respect to activations\n",
    "        da2 = dY * self.dh2(self.a2)\n",
    "\n",
    "        # Compute derivatives of loss with respect to weights and biases of the output layer\n",
    "        self.dW2 = (self.a1.T @ da2) / self.m\n",
    "        self.db2 = np.sum(da2, axis=0) / self.m\n",
    "\n",
    "        # Compute derivatives of loss with respect to activations of the hidden layer\n",
    "        da1 = da2 @ self.W2.T * self.dh1(self.a1)\n",
    "\n",
    "        # Compute derivatives of loss with respect to weights and biases of the hidden layer\n",
    "        self.dW1 = (self.X.T @ da1)/self.m\n",
    "        self.db1 = np.sum(da1, axis=0)/self.m\n",
    "        \n",
    "        \n",
    "\n",
    "    def adam_step(self, alpha=0.001, rho1=0.9, rho2=0.999, delta=1e-8):\n",
    "        # Increment timestep\n",
    "        self.t += 1\n",
    "\n",
    "        # Update nuW1, nuW2, nub1, nub2\n",
    "        self.nuW1 = rho1 * self.nuW1 + (1 - rho1) * self.dW1\n",
    "        self.nuW2 = rho1 * self.nuW2 + (1 - rho1) * self.dW2\n",
    "        self.nub1 = rho1 * self.nub1 + (1 - rho1) * self.db1\n",
    "        self.nub2 = rho1 * self.nub2 + (1 - rho1) * self.db2\n",
    "\n",
    "        # Update hW1, hW2, hb1, hb2\n",
    "        self.hW1 = rho2 * self.hW1 + (1 - rho2) * self.dW1**2\n",
    "        self.hW2 = rho2 * self.hW2 + (1 - rho2) * self.dW2**2\n",
    "        self.hb1 = rho2 * self.hb1 + (1 - rho2) * self.db1**2\n",
    "        self.hb2 = rho2 * self.hb2 + (1 - rho2) * self.db2**2\n",
    "\n",
    "        # Compute nuPhat, hPhat\n",
    "        nuW1_hat = self.nuW1 / (1 - rho1**self.t)\n",
    "        nuW2_hat = self.nuW2 / (1 - rho1**self.t)\n",
    "        nub1_hat = self.nub1 / (1 - rho1**self.t)\n",
    "        nub2_hat = self.nub2 / (1 - rho1**self.t)\n",
    "\n",
    "        hW1_hat = self.hW1 / (1 - rho2**self.t)\n",
    "        hW2_hat = self.hW2 / (1 - rho2**self.t)\n",
    "        hb1_hat = self.hb1 / (1 - rho2**self.t)\n",
    "        hb2_hat = self.hb2 / (1 - rho2**self.t)\n",
    "\n",
    "        # Update weights and biases\n",
    "        self.W1 -= alpha * nuW1_hat / (np.sqrt(hW1_hat) + delta)\n",
    "        self.W2 -= alpha * nuW2_hat / (np.sqrt(hW2_hat) + delta)\n",
    "        self.b1 -= alpha * nub1_hat / (np.sqrt(hb1_hat) + delta)\n",
    "        self.b2 -= alpha * nub2_hat / (np.sqrt(hb2_hat) + delta)\n"
   ]
  },
  {
   "cell_type": "markdown",
   "metadata": {
    "id": "QClw_724a3Hj"
   },
   "source": [
    "## Question - 2"
   ]
  },
  {
   "cell_type": "code",
   "execution_count": 8,
   "metadata": {
    "id": "vJyFa3toUzos"
   },
   "outputs": [],
   "source": [
    "from tensorflow import keras\n",
    "\n",
    "(Xtrain, _), (Xtest, _) = keras.datasets.fashion_mnist.load_data()\n",
    "\n",
    "# normalize the pixel values to be between 0 and 1\n",
    "Xtrain = Xtrain.astype('float32') / 255.\n",
    "Xtest = Xtest.astype('float32') / 255.\n",
    "\n",
    "# reshape the data to be of shape (n_samples, n_features)\n",
    "Xtrain = Xtrain.reshape((len(Xtrain), np.prod(Xtrain.shape[1:])))\n",
    "Xtest = Xtest.reshape((len(Xtest), np.prod(Xtest.shape[1:])))\n",
    "\n",
    "d = Xtest.shape[1]\n",
    "n1 = 100\n",
    "numepochs = 10\n",
    "numsplits = 1000"
   ]
  },
  {
   "cell_type": "code",
   "execution_count": 9,
   "metadata": {
    "colab": {
     "base_uri": "https://localhost:8080/"
    },
    "id": "MosqV5l_U237",
    "outputId": "3c49cc25-b44c-455b-fa11-3d52da6417ee"
   },
   "outputs": [
    {
     "name": "stdout",
     "output_type": "stream",
     "text": [
      "Training loss [1/10]: 0.70\n",
      "Training loss [2/10]: 0.30\n",
      "Training loss [3/10]: 0.28\n",
      "Training loss [4/10]: 0.28\n",
      "Training loss [5/10]: 0.28\n",
      "Training loss [6/10]: 0.28\n",
      "Training loss [7/10]: 0.28\n",
      "Training loss [8/10]: 0.28\n",
      "Training loss [9/10]: 0.28\n",
      "Training loss [10/10]: 0.28\n"
     ]
    }
   ],
   "source": [
    "\n",
    "ae = autoencoder(d,n1)\n",
    "for e in range(numepochs):\n",
    "    print(\"Training loss [%d/%d]: %.2f\" % (e+1, numepochs, ae.loss(Xtrain)))\n",
    "    minibatches = np.split(np.random.permutation(Xtrain), numsplits)\n",
    "    for Xbatch in minibatches: \n",
    "        ae.forward(Xbatch) \n",
    "        ae.backward() \n",
    "        ae.adam_step()"
   ]
  },
  {
   "cell_type": "markdown",
   "metadata": {
    "id": "P40nqP74aQzn"
   },
   "source": [
    "### Test Loss"
   ]
  },
  {
   "cell_type": "code",
   "execution_count": 13,
   "metadata": {
    "colab": {
     "base_uri": "https://localhost:8080/"
    },
    "id": "hnTHdRBcaH2a",
    "outputId": "e8e8301e-f198-4c3b-95e4-3857158a1db5"
   },
   "outputs": [
    {
     "name": "stdout",
     "output_type": "stream",
     "text": [
      "Test loss: 0.28\n"
     ]
    }
   ],
   "source": [
    "test_loss = ae.loss(Xtest)\n",
    "print(\"Test loss: %.2f\" % (test_loss))\n"
   ]
  },
  {
   "cell_type": "markdown",
   "metadata": {
    "id": "hYhGqoP_bBQY"
   },
   "source": [
    "## Question - 3"
   ]
  },
  {
   "cell_type": "code",
   "execution_count": 22,
   "metadata": {
    "colab": {
     "base_uri": "https://localhost:8080/",
     "height": 310
    },
    "id": "TGd3k6nYasgo",
    "outputId": "7cdcc88d-cdd3-4ff9-be40-4b546ab2e9e7"
   },
   "outputs": [
    {
     "data": {
      "image/png": "[encoded data removed]",
      "text/plain": [
       "<Figure size 1600x400 with 20 Axes>"
      ]
     },
     "metadata": {},
     "output_type": "display_data"
    }
   ],
   "source": [
    "import matplotlib.pyplot as plt\n",
    "plt.figure(figsize=(16, 4))\n",
    "\n",
    "for i in range(10):\n",
    "    image = Xtest[i]\n",
    "    re_image = ae.forward(image.reshape(1,784))\n",
    "    ## Plot for the original images\n",
    "    plt.subplot(2, 10, i + 1)\n",
    "    plt.imshow(image.reshape(28,28), cmap = \"gray\")\n",
    "    plt.axis('off')\n",
    "    ## Plot for the reconstructed images\n",
    "    plt.subplot(2, 10, i + 11)\n",
    "    plt.imshow(re_image.reshape(28,28), cmap = \"gray\")\n",
    "    plt.axis('off')"
   ]
  },
  {
   "cell_type": "markdown",
   "metadata": {
    "id": "fhImbYu_eAeQ"
   },
   "source": [
    "## Choice of Hyperparameters \n",
    "- epochs = 10\n",
    "- batch_size = 60 or numsplits = 1000\n",
    "- learning_rate = 0.001\n",
    "- alpha = 0.001\n",
    "- rho1 = 0.9\n",
    "- rho2 = 0.999\n",
    "- delta = 1e-8\n"
   ]
  },
  {
   "cell_type": "markdown",
   "metadata": {
    "id": "lfG0E2uOej2Y"
   },
   "source": [
    "## Observations about reconstruction\n",
    "\n",
    "- The reconstruction is not bad. The objects are well identifiable with human cognition. \n",
    "- But the reconstructed images seem to be little bit blurred."
   ]
  }
 ],
 "metadata": {
  "colab": {
   "provenance": []
  },
  "kernelspec": {
   "display_name": "Python 3 (ipykernel)",
   "language": "python",
   "name": "python3"
  },
  "language_info": {
   "codemirror_mode": {
    "name": "ipython",
    "version": 3
   },
   "file_extension": ".py",
   "mimetype": "text/x-python",
   "name": "python",
   "nbconvert_exporter": "python",
   "pygments_lexer": "ipython3",
   "version": "3.8.16"
  }
 },
 "nbformat": 4,
 "nbformat_minor": 1
}
